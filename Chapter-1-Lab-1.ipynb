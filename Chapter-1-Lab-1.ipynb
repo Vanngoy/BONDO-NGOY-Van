{
 "cells": [
  {
   "cell_type": "markdown",
   "id": "4c712892-344a-458b-b1db-64ad7ed17753",
   "metadata": {},
   "source": [
    "# A. IMPORTATION DE LIBRARIS"
   ]
  },
  {
   "cell_type": "code",
   "execution_count": 1,
   "id": "6f86de0d-c97f-4be7-af10-43fe42380e3e",
   "metadata": {},
   "outputs": [],
   "source": [
    "# Importation de libraries"
   ]
  },
  {
   "cell_type": "markdown",
   "id": "ca485810-91e6-41c2-9b72-04f2402abdcd",
   "metadata": {},
   "source": [
    "# SSID: Dahouda-office et  Mot de Passe: Simba@2024"
   ]
  },
  {
   "cell_type": "code",
   "execution_count": 2,
   "id": "4e36a8d3-a163-444e-8c69-fd91886730b6",
   "metadata": {},
   "outputs": [],
   "source": [
    "import numpy as np"
   ]
  },
  {
   "cell_type": "markdown",
   "id": "5aa10908-10ee-4f76-a969-8581e2dad36e",
   "metadata": {},
   "source": [
    "# 1. Tableau"
   ]
  },
  {
   "cell_type": "markdown",
   "id": "eaffdafc-5218-4e7f-a248-6f4730e79da0",
   "metadata": {
    "editable": true,
    "slideshow": {
     "slide_type": ""
    },
    "tags": []
   },
   "source": [
    "## 1.1 Tableau a 1 D"
   ]
  },
  {
   "cell_type": "code",
   "execution_count": 3,
   "id": "c7920225-320e-4cd7-913c-5ed360b3e593",
   "metadata": {},
   "outputs": [
    {
     "data": {
      "text/plain": [
       "array([ 2,  4,  6,  8, 10, 12, 14])"
      ]
     },
     "execution_count": 3,
     "metadata": {},
     "output_type": "execute_result"
    }
   ],
   "source": [
    "# Cration d'un tableau a 1D\n",
    "tab_1D = np.array([2, 4, 6, 8, 10, 12, 14])\n",
    "tab_1D"
   ]
  },
  {
   "cell_type": "code",
   "execution_count": 4,
   "id": "67f08704-0dfa-48d8-b26d-05c8576cbf19",
   "metadata": {},
   "outputs": [
    {
     "data": {
      "text/plain": [
       "array([ 2,  4,  6,  8, 10, 12, 14])"
      ]
     },
     "execution_count": 4,
     "metadata": {},
     "output_type": "execute_result"
    }
   ],
   "source": [
    "tab_1D"
   ]
  },
  {
   "cell_type": "code",
   "execution_count": 5,
   "id": "87791daf-9c85-465e-962d-9658686de11b",
   "metadata": {},
   "outputs": [
    {
     "name": "stdout",
     "output_type": "stream",
     "text": [
      "[ 2  4  6  8 10 12 14]\n"
     ]
    }
   ],
   "source": [
    "print(tab_1D)"
   ]
  },
  {
   "cell_type": "code",
   "execution_count": 6,
   "id": "6615eea7-bae2-42d6-b33d-53eb729e4dc7",
   "metadata": {},
   "outputs": [
    {
     "name": "stdout",
     "output_type": "stream",
     "text": [
      "(7,)\n"
     ]
    }
   ],
   "source": [
    "print(tab_1D.shape)"
   ]
  },
  {
   "cell_type": "code",
   "execution_count": 7,
   "id": "9881342b-03ff-48d6-a029-24f565165b36",
   "metadata": {},
   "outputs": [
    {
     "data": {
      "text/plain": [
       "numpy.ndarray"
      ]
     },
     "execution_count": 7,
     "metadata": {},
     "output_type": "execute_result"
    }
   ],
   "source": [
    "type(tab_1D)"
   ]
  },
  {
   "cell_type": "code",
   "execution_count": 8,
   "id": "21dfafc5-8bd6-4d90-9b2a-8b5897565022",
   "metadata": {},
   "outputs": [
    {
     "name": "stdout",
     "output_type": "stream",
     "text": [
      "Dimension du Tableau (7,)\n",
      "Type du Tableau <class 'numpy.ndarray'>\n",
      "Voici le Tableau: [ 2  4  6  8 10 12 14]\n"
     ]
    }
   ],
   "source": [
    "print(\"Dimension du Tableau\", tab_1D.shape)\n",
    "print(\"Type du Tableau\", type(tab_1D))\n",
    "print(\"Voici le Tableau:\", tab_1D)"
   ]
  },
  {
   "cell_type": "code",
   "execution_count": 9,
   "id": "58dd2b78-0d75-481d-b7ba-6ea933ca312b",
   "metadata": {},
   "outputs": [
    {
     "name": "stdout",
     "output_type": "stream",
     "text": [
      "[ 2  4  6  8 10 12 14]\n"
     ]
    }
   ],
   "source": [
    "# Selection des elements\n",
    "print(tab_1D)"
   ]
  },
  {
   "cell_type": "code",
   "execution_count": 10,
   "id": "3d05f5ff-f425-40a7-a758-86b9592bf1c9",
   "metadata": {},
   "outputs": [
    {
     "data": {
      "text/plain": [
       "12"
      ]
     },
     "execution_count": 10,
     "metadata": {},
     "output_type": "execute_result"
    }
   ],
   "source": [
    "tab_1D[5]"
   ]
  },
  {
   "cell_type": "markdown",
   "id": "136a4ffa-8d5b-471d-8864-a223ef55bb49",
   "metadata": {},
   "source": [
    "## 1.2 Tableau 2D"
   ]
  },
  {
   "cell_type": "code",
   "execution_count": 11,
   "id": "dd527e95-7d17-4fb0-b939-06941ca42446",
   "metadata": {},
   "outputs": [],
   "source": [
    "# Creaton d'un tableau a 2D\n",
    "tab_2D = np.array([\n",
    "    [1, 3, 5, 7, 8],\n",
    "    [11, 33, 55, 77, 88],\n",
    "    [10, 30, 50, 70, 80]\n",
    "])"
   ]
  },
  {
   "cell_type": "code",
   "execution_count": 12,
   "id": "5f562c63-3065-4823-8ed5-1b10a307c492",
   "metadata": {},
   "outputs": [
    {
     "name": "stdout",
     "output_type": "stream",
     "text": [
      "Dimension du Tableau (3, 5)\n",
      "Type du Tableau <class 'numpy.ndarray'>\n",
      "[[ 1  3  5  7  8]\n",
      " [11 33 55 77 88]\n",
      " [10 30 50 70 80]]\n"
     ]
    }
   ],
   "source": [
    "print(\"Dimension du Tableau\", tab_2D.shape)\n",
    "print(\"Type du Tableau\", type(tab_2D))\n",
    "print(tab_2D)"
   ]
  },
  {
   "cell_type": "code",
   "execution_count": 13,
   "id": "da3f21da-5a48-465a-92bb-24f6415b27ae",
   "metadata": {},
   "outputs": [
    {
     "name": "stdout",
     "output_type": "stream",
     "text": [
      "[[ 1  3  5  7  8]\n",
      " [11 33 55 77 88]\n",
      " [10 30 50 70 80]]\n"
     ]
    }
   ],
   "source": [
    "# Selection des elements\n",
    "print(tab_2D)"
   ]
  },
  {
   "cell_type": "code",
   "execution_count": 14,
   "id": "f8fc20d7-b8bd-478a-a67d-f2ac8735938e",
   "metadata": {},
   "outputs": [
    {
     "data": {
      "text/plain": [
       "55"
      ]
     },
     "execution_count": 14,
     "metadata": {},
     "output_type": "execute_result"
    }
   ],
   "source": [
    "tab_2D[1][2]"
   ]
  },
  {
   "cell_type": "code",
   "execution_count": 15,
   "id": "39183c0e-fd98-49b9-b8e0-fa10ef673454",
   "metadata": {},
   "outputs": [
    {
     "data": {
      "text/plain": [
       "88"
      ]
     },
     "execution_count": 15,
     "metadata": {},
     "output_type": "execute_result"
    }
   ],
   "source": [
    "tab_2D[1][4]"
   ]
  },
  {
   "cell_type": "markdown",
   "id": "c1c68294-f69a-4238-938c-2b992463eabb",
   "metadata": {},
   "source": [
    "## 1.3 Tableau 3D"
   ]
  },
  {
   "cell_type": "code",
   "execution_count": 16,
   "id": "6d188e33-2af1-4a7f-b843-f06bab1f359c",
   "metadata": {},
   "outputs": [],
   "source": [
    "# Creation d'un tableeau 3D\n",
    "tab_3D = np.array([[\n",
    "    [11, 9, 7, 5, 3, 1],\n",
    "    [110, 90, 70, 50, 30, 10],\n",
    "    [115, 95, 75, 55, 35, 15],\n",
    "    [1100, 900, 700, 500, 300, 100],\n",
    "]])"
   ]
  },
  {
   "cell_type": "code",
   "execution_count": 17,
   "id": "75723b5d-7870-43df-8de7-1ed2372970e3",
   "metadata": {},
   "outputs": [
    {
     "name": "stdout",
     "output_type": "stream",
     "text": [
      "Dimension du Tableau (1, 4, 6)\n",
      "Type du Tableau <class 'numpy.ndarray'>\n",
      "[[[  11    9    7    5    3    1]\n",
      "  [ 110   90   70   50   30   10]\n",
      "  [ 115   95   75   55   35   15]\n",
      "  [1100  900  700  500  300  100]]]\n"
     ]
    }
   ],
   "source": [
    "print(\"Dimension du Tableau\", tab_3D.shape)\n",
    "print(\"Type du Tableau\", type(tab_3D))\n",
    "print(tab_3D)"
   ]
  },
  {
   "cell_type": "code",
   "execution_count": 18,
   "id": "dfb146f5-e416-4758-8409-2ad7d63370b7",
   "metadata": {},
   "outputs": [
    {
     "data": {
      "text/plain": [
       "array([[[  11,    9,    7,    5,    3,    1],\n",
       "        [ 110,   90,   70,   50,   30,   10],\n",
       "        [ 115,   95,   75,   55,   35,   15],\n",
       "        [1100,  900,  700,  500,  300,  100]]])"
      ]
     },
     "execution_count": 18,
     "metadata": {},
     "output_type": "execute_result"
    }
   ],
   "source": [
    "# Selection des elements\n",
    "tab_3D.shape\n",
    "tab_3D"
   ]
  },
  {
   "cell_type": "code",
   "execution_count": 19,
   "id": "1b18055c-2320-42cf-a679-b13491110a15",
   "metadata": {},
   "outputs": [
    {
     "name": "stdout",
     "output_type": "stream",
     "text": [
      "(1, 4, 6)\n",
      "[[[  11    9    7    5    3    1]\n",
      "  [ 110   90   70   50   30   10]\n",
      "  [ 115   95   75   55   35   15]\n",
      "  [1100  900  700  500  300  100]]]\n"
     ]
    }
   ],
   "source": [
    "print(tab_3D.shape)\n",
    "print(tab_3D)"
   ]
  },
  {
   "cell_type": "code",
   "execution_count": 20,
   "id": "ce975123-c565-409d-ad49-a57a6e580b53",
   "metadata": {},
   "outputs": [
    {
     "data": {
      "text/plain": [
       "700"
      ]
     },
     "execution_count": 20,
     "metadata": {},
     "output_type": "execute_result"
    }
   ],
   "source": [
    "tab_3D[0][3][2]"
   ]
  },
  {
   "cell_type": "code",
   "execution_count": 21,
   "id": "4748d103-3132-4634-8363-e3b4018c1763",
   "metadata": {},
   "outputs": [
    {
     "data": {
      "text/plain": [
       "1"
      ]
     },
     "execution_count": 21,
     "metadata": {},
     "output_type": "execute_result"
    }
   ],
   "source": [
    "tab_3D[0][0][5]"
   ]
  },
  {
   "cell_type": "markdown",
   "id": "ec6cfc5d-36a9-472d-a939-7e2a2b5f98bd",
   "metadata": {},
   "source": [
    "## 1.4 Tableau a 4D"
   ]
  },
  {
   "cell_type": "code",
   "execution_count": 22,
   "id": "c64fc98d-1d12-458b-b012-6de3607bc7d2",
   "metadata": {},
   "outputs": [],
   "source": [
    "# Creation d'un Tableau a 4D\n",
    "tab_4D = np.array([[[\n",
    "    [2, 4, 6, 8, 10],\n",
    "    [25, 45, 65, 85, 105],\n",
    "    [20, 40, 60, 80, 100],\n",
    "]]])"
   ]
  },
  {
   "cell_type": "code",
   "execution_count": 23,
   "id": "5f9119b2-97fe-4ab2-8d44-84be1d3c298f",
   "metadata": {},
   "outputs": [
    {
     "name": "stdout",
     "output_type": "stream",
     "text": [
      "Dimension du Tableau (1, 1, 3, 5)\n",
      "Type du Tableau <class 'numpy.ndarray'>\n",
      "[[[[  2   4   6   8  10]\n",
      "   [ 25  45  65  85 105]\n",
      "   [ 20  40  60  80 100]]]]\n"
     ]
    }
   ],
   "source": [
    "print(\"Dimension du Tableau\", tab_4D.shape)\n",
    "print(\"Type du Tableau\", type(tab_4D))\n",
    "print(tab_4D)"
   ]
  },
  {
   "cell_type": "code",
   "execution_count": 24,
   "id": "a9da1d6a-fca0-440c-8e30-3885b0af5470",
   "metadata": {},
   "outputs": [
    {
     "name": "stdout",
     "output_type": "stream",
     "text": [
      "(1, 1, 3, 5)\n",
      "[[[[  2   4   6   8  10]\n",
      "   [ 25  45  65  85 105]\n",
      "   [ 20  40  60  80 100]]]]\n"
     ]
    }
   ],
   "source": [
    "# Selectionner des elements\n",
    "print(tab_4D.shape)\n",
    "print(tab_4D)"
   ]
  },
  {
   "cell_type": "code",
   "execution_count": 25,
   "id": "3e33a5e6-959b-4aa1-8393-cf41947f07d3",
   "metadata": {},
   "outputs": [
    {
     "data": {
      "text/plain": [
       "85"
      ]
     },
     "execution_count": 25,
     "metadata": {},
     "output_type": "execute_result"
    }
   ],
   "source": [
    "tab_4D[0][0][1][3]"
   ]
  },
  {
   "cell_type": "markdown",
   "id": "da24f735-bc25-4364-93be-cbd644202ef7",
   "metadata": {},
   "source": [
    "# B. OPERATIONS"
   ]
  },
  {
   "cell_type": "code",
   "execution_count": 26,
   "id": "07a3e8ba-2316-4984-bf9a-de8895b46384",
   "metadata": {},
   "outputs": [],
   "source": [
    "a = np.array([\n",
    "    [2, 4, 6, 8],\n",
    "    [25, 45, 65, 85],\n",
    "])\n",
    "\n",
    "b = np.array([\n",
    "    [20, 40, 60, 80],\n",
    "    [250, 450, 650, 850],\n",
    "])"
   ]
  },
  {
   "cell_type": "code",
   "execution_count": 27,
   "id": "746972c1-4b0a-4423-86bf-5f99bee8912c",
   "metadata": {},
   "outputs": [
    {
     "name": "stdout",
     "output_type": "stream",
     "text": [
      "(2, 4)\n",
      "[[ 2  4  6  8]\n",
      " [25 45 65 85]]\n",
      "(2, 4)\n",
      "[[ 20  40  60  80]\n",
      " [250 450 650 850]]\n"
     ]
    }
   ],
   "source": [
    "print(a.shape)\n",
    "print(a)\n",
    "print(b.shape)\n",
    "print(b)"
   ]
  },
  {
   "cell_type": "code",
   "execution_count": 28,
   "id": "863f1121-bf52-4a73-be0f-0a5c0609e110",
   "metadata": {},
   "outputs": [
    {
     "name": "stdout",
     "output_type": "stream",
     "text": [
      "[[ 22  44  66  88]\n",
      " [275 495 715 935]]\n"
     ]
    }
   ],
   "source": [
    "# Addition\n",
    "print(a + b)"
   ]
  },
  {
   "cell_type": "code",
   "execution_count": 29,
   "id": "aec0fac3-422e-488b-9511-bf7c3f10d4cf",
   "metadata": {},
   "outputs": [
    {
     "name": "stdout",
     "output_type": "stream",
     "text": [
      "[[ -18  -36  -54  -72]\n",
      " [-225 -405 -585 -765]]\n"
     ]
    }
   ],
   "source": [
    "# Soustraction\n",
    "print(a - b)"
   ]
  },
  {
   "cell_type": "code",
   "execution_count": 30,
   "id": "459d6a24-b80a-4951-baf6-668173300ddd",
   "metadata": {},
   "outputs": [
    {
     "name": "stdout",
     "output_type": "stream",
     "text": [
      "[[ 18  36  54  72]\n",
      " [225 405 585 765]]\n"
     ]
    }
   ],
   "source": [
    "print(b - a)"
   ]
  },
  {
   "cell_type": "code",
   "execution_count": 31,
   "id": "2ebc423f-8ae0-400e-9792-cbf886175c7b",
   "metadata": {},
   "outputs": [
    {
     "name": "stdout",
     "output_type": "stream",
     "text": [
      "[[   40   160   360   640]\n",
      " [ 6250 20250 42250 72250]]\n"
     ]
    }
   ],
   "source": [
    "# Multiplication\n",
    "print(a * b)"
   ]
  },
  {
   "cell_type": "code",
   "execution_count": 32,
   "id": "0f2c851f-18a3-4d67-88aa-1f8bf4002a19",
   "metadata": {},
   "outputs": [
    {
     "name": "stdout",
     "output_type": "stream",
     "text": [
      "[[0.1 0.1 0.1 0.1]\n",
      " [0.1 0.1 0.1 0.1]]\n"
     ]
    }
   ],
   "source": [
    "# Division \n",
    "print(a / b)"
   ]
  },
  {
   "cell_type": "code",
   "execution_count": 33,
   "id": "6373e209-a28f-4bdc-93fd-1c7d886e15fc",
   "metadata": {},
   "outputs": [
    {
     "name": "stdout",
     "output_type": "stream",
     "text": [
      "[[10. 10. 10. 10.]\n",
      " [10. 10. 10. 10.]]\n"
     ]
    }
   ],
   "source": [
    "print(b / a)"
   ]
  },
  {
   "cell_type": "markdown",
   "id": "812c2225-e54b-47d2-9ee7-f2bef223feb4",
   "metadata": {},
   "source": [
    "# C. MANIPULATION DES DONNEES"
   ]
  },
  {
   "cell_type": "code",
   "execution_count": 34,
   "id": "6bef3ec1-5372-4a9b-af1e-1c81e1d1bf5e",
   "metadata": {},
   "outputs": [],
   "source": [
    "# Creation d'un dictionnaire\n",
    "Info_Etudiants = {\n",
    "    'Matricule': '20221235543',\n",
    "    'Nom': 'KASONGO',\n",
    "    'Prenom': 'David',\n",
    "    'Age': 23,\n",
    "    'GPA': 'A'\n",
    "}"
   ]
  },
  {
   "cell_type": "code",
   "execution_count": 35,
   "id": "c0245e8d-1b84-46ac-b3b9-41f6732bde60",
   "metadata": {},
   "outputs": [
    {
     "data": {
      "text/plain": [
       "{'Matricule': '20221235543',\n",
       " 'Nom': 'KASONGO',\n",
       " 'Prenom': 'David',\n",
       " 'Age': 23,\n",
       " 'GPA': 'A'}"
      ]
     },
     "execution_count": 35,
     "metadata": {},
     "output_type": "execute_result"
    }
   ],
   "source": [
    "Info_Etudiants"
   ]
  },
  {
   "cell_type": "code",
   "execution_count": 36,
   "id": "8289b621-e288-463c-a0a4-e3a29b5895f5",
   "metadata": {},
   "outputs": [
    {
     "name": "stdout",
     "output_type": "stream",
     "text": [
      "{'Matricule': '20221235543', 'Nom': 'KASONGO', 'Prenom': 'David', 'Age': 23, 'GPA': 'A'}\n"
     ]
    }
   ],
   "source": [
    "print(Info_Etudiants)"
   ]
  },
  {
   "cell_type": "code",
   "execution_count": 37,
   "id": "f38d9649-5490-4f11-afec-29acffcfcccb",
   "metadata": {},
   "outputs": [],
   "source": [
    "Info_tous_les_etudiants_BAC_GL_IA = {\n",
    "    'Matricule':['2022098123', '2022123654', '2022987123', '2022876123', '2022987111'],\n",
    "    'Nom': ['SAMPATWA', 'KATUMBA', 'KIMENYEMBO', 'KALOMBO', 'KALOBO'],\n",
    "    'Pronom': ['Diev', 'Manasse', 'Ketsia', 'Charly', 'Justin'],\n",
    "    'Age': [25, 22, 12, 26, 18],\n",
    "    'GPA': ['A', 'B', 'A', 'C', 'B']\n",
    "}"
   ]
  },
  {
   "cell_type": "code",
   "execution_count": 38,
   "id": "81b648dd-f419-497c-b356-bf6f61bedd15",
   "metadata": {},
   "outputs": [
    {
     "data": {
      "text/plain": [
       "{'Matricule': ['2022098123',\n",
       "  '2022123654',\n",
       "  '2022987123',\n",
       "  '2022876123',\n",
       "  '2022987111'],\n",
       " 'Nom': ['SAMPATWA', 'KATUMBA', 'KIMENYEMBO', 'KALOMBO', 'KALOBO'],\n",
       " 'Pronom': ['Diev', 'Manasse', 'Ketsia', 'Charly', 'Justin'],\n",
       " 'Age': [25, 22, 12, 26, 18],\n",
       " 'GPA': ['A', 'B', 'A', 'C', 'B']}"
      ]
     },
     "execution_count": 38,
     "metadata": {},
     "output_type": "execute_result"
    }
   ],
   "source": [
    "Info_tous_les_etudiants_BAC_GL_IA"
   ]
  },
  {
   "cell_type": "code",
   "execution_count": 39,
   "id": "cfb629c2-5133-4cdf-b4d1-f7537c19cdcc",
   "metadata": {},
   "outputs": [
    {
     "name": "stdout",
     "output_type": "stream",
     "text": [
      "{'Matricule': ['2022098123', '2022123654', '2022987123', '2022876123', '2022987111'], 'Nom': ['SAMPATWA', 'KATUMBA', 'KIMENYEMBO', 'KALOMBO', 'KALOBO'], 'Pronom': ['Diev', 'Manasse', 'Ketsia', 'Charly', 'Justin'], 'Age': [25, 22, 12, 26, 18], 'GPA': ['A', 'B', 'A', 'C', 'B']}\n"
     ]
    }
   ],
   "source": [
    "print(Info_tous_les_etudiants_BAC_GL_IA)"
   ]
  },
  {
   "cell_type": "code",
   "execution_count": 40,
   "id": "ebcb51ad-490a-4c12-9a72-7cc99c3ec4ad",
   "metadata": {},
   "outputs": [],
   "source": [
    "# Importer Pandas\n",
    "import pandas as pd"
   ]
  },
  {
   "cell_type": "code",
   "execution_count": 41,
   "id": "8c876a19-cdc2-47fc-b8b8-452e0cc9712c",
   "metadata": {},
   "outputs": [],
   "source": [
    "donnees_etudiants = pd.DataFrame(Info_tous_les_etudiants_BAC_GL_IA)"
   ]
  },
  {
   "cell_type": "code",
   "execution_count": 42,
   "id": "930d279d-d349-4d6e-bf41-e4ba56c7750a",
   "metadata": {},
   "outputs": [
    {
     "data": {
      "text/html": [
       "<div>\n",
       "<style scoped>\n",
       "    .dataframe tbody tr th:only-of-type {\n",
       "        vertical-align: middle;\n",
       "    }\n",
       "\n",
       "    .dataframe tbody tr th {\n",
       "        vertical-align: top;\n",
       "    }\n",
       "\n",
       "    .dataframe thead th {\n",
       "        text-align: right;\n",
       "    }\n",
       "</style>\n",
       "<table border=\"1\" class=\"dataframe\">\n",
       "  <thead>\n",
       "    <tr style=\"text-align: right;\">\n",
       "      <th></th>\n",
       "      <th>Matricule</th>\n",
       "      <th>Nom</th>\n",
       "      <th>Pronom</th>\n",
       "      <th>Age</th>\n",
       "      <th>GPA</th>\n",
       "    </tr>\n",
       "  </thead>\n",
       "  <tbody>\n",
       "    <tr>\n",
       "      <th>0</th>\n",
       "      <td>2022098123</td>\n",
       "      <td>SAMPATWA</td>\n",
       "      <td>Diev</td>\n",
       "      <td>25</td>\n",
       "      <td>A</td>\n",
       "    </tr>\n",
       "    <tr>\n",
       "      <th>1</th>\n",
       "      <td>2022123654</td>\n",
       "      <td>KATUMBA</td>\n",
       "      <td>Manasse</td>\n",
       "      <td>22</td>\n",
       "      <td>B</td>\n",
       "    </tr>\n",
       "    <tr>\n",
       "      <th>2</th>\n",
       "      <td>2022987123</td>\n",
       "      <td>KIMENYEMBO</td>\n",
       "      <td>Ketsia</td>\n",
       "      <td>12</td>\n",
       "      <td>A</td>\n",
       "    </tr>\n",
       "    <tr>\n",
       "      <th>3</th>\n",
       "      <td>2022876123</td>\n",
       "      <td>KALOMBO</td>\n",
       "      <td>Charly</td>\n",
       "      <td>26</td>\n",
       "      <td>C</td>\n",
       "    </tr>\n",
       "    <tr>\n",
       "      <th>4</th>\n",
       "      <td>2022987111</td>\n",
       "      <td>KALOBO</td>\n",
       "      <td>Justin</td>\n",
       "      <td>18</td>\n",
       "      <td>B</td>\n",
       "    </tr>\n",
       "  </tbody>\n",
       "</table>\n",
       "</div>"
      ],
      "text/plain": [
       "    Matricule         Nom   Pronom  Age GPA\n",
       "0  2022098123    SAMPATWA     Diev   25   A\n",
       "1  2022123654     KATUMBA  Manasse   22   B\n",
       "2  2022987123  KIMENYEMBO   Ketsia   12   A\n",
       "3  2022876123     KALOMBO   Charly   26   C\n",
       "4  2022987111      KALOBO   Justin   18   B"
      ]
     },
     "execution_count": 42,
     "metadata": {},
     "output_type": "execute_result"
    }
   ],
   "source": [
    "donnees_etudiants"
   ]
  },
  {
   "cell_type": "code",
   "execution_count": 43,
   "id": "7dcacd53-017e-4d2d-a8d5-c283b26f0877",
   "metadata": {},
   "outputs": [
    {
     "data": {
      "text/html": [
       "<div>\n",
       "<style scoped>\n",
       "    .dataframe tbody tr th:only-of-type {\n",
       "        vertical-align: middle;\n",
       "    }\n",
       "\n",
       "    .dataframe tbody tr th {\n",
       "        vertical-align: top;\n",
       "    }\n",
       "\n",
       "    .dataframe thead th {\n",
       "        text-align: right;\n",
       "    }\n",
       "</style>\n",
       "<table border=\"1\" class=\"dataframe\">\n",
       "  <thead>\n",
       "    <tr style=\"text-align: right;\">\n",
       "      <th></th>\n",
       "      <th>Matricule</th>\n",
       "      <th>Nom</th>\n",
       "      <th>Pronom</th>\n",
       "      <th>Age</th>\n",
       "      <th>GPA</th>\n",
       "    </tr>\n",
       "  </thead>\n",
       "  <tbody>\n",
       "    <tr>\n",
       "      <th>0</th>\n",
       "      <td>2022098123</td>\n",
       "      <td>SAMPATWA</td>\n",
       "      <td>Diev</td>\n",
       "      <td>25</td>\n",
       "      <td>A</td>\n",
       "    </tr>\n",
       "    <tr>\n",
       "      <th>1</th>\n",
       "      <td>2022123654</td>\n",
       "      <td>KATUMBA</td>\n",
       "      <td>Manasse</td>\n",
       "      <td>22</td>\n",
       "      <td>B</td>\n",
       "    </tr>\n",
       "    <tr>\n",
       "      <th>2</th>\n",
       "      <td>2022987123</td>\n",
       "      <td>KIMENYEMBO</td>\n",
       "      <td>Ketsia</td>\n",
       "      <td>12</td>\n",
       "      <td>A</td>\n",
       "    </tr>\n",
       "    <tr>\n",
       "      <th>3</th>\n",
       "      <td>2022876123</td>\n",
       "      <td>KALOMBO</td>\n",
       "      <td>Charly</td>\n",
       "      <td>26</td>\n",
       "      <td>C</td>\n",
       "    </tr>\n",
       "  </tbody>\n",
       "</table>\n",
       "</div>"
      ],
      "text/plain": [
       "    Matricule         Nom   Pronom  Age GPA\n",
       "0  2022098123    SAMPATWA     Diev   25   A\n",
       "1  2022123654     KATUMBA  Manasse   22   B\n",
       "2  2022987123  KIMENYEMBO   Ketsia   12   A\n",
       "3  2022876123     KALOMBO   Charly   26   C"
      ]
     },
     "execution_count": 43,
     "metadata": {},
     "output_type": "execute_result"
    }
   ],
   "source": [
    "donnees_etudiants.head(4)"
   ]
  },
  {
   "cell_type": "code",
   "execution_count": 44,
   "id": "2ea9b048-7b76-4057-937e-86a9864da723",
   "metadata": {},
   "outputs": [
    {
     "data": {
      "text/html": [
       "<div>\n",
       "<style scoped>\n",
       "    .dataframe tbody tr th:only-of-type {\n",
       "        vertical-align: middle;\n",
       "    }\n",
       "\n",
       "    .dataframe tbody tr th {\n",
       "        vertical-align: top;\n",
       "    }\n",
       "\n",
       "    .dataframe thead th {\n",
       "        text-align: right;\n",
       "    }\n",
       "</style>\n",
       "<table border=\"1\" class=\"dataframe\">\n",
       "  <thead>\n",
       "    <tr style=\"text-align: right;\">\n",
       "      <th></th>\n",
       "      <th>Matricule</th>\n",
       "      <th>Nom</th>\n",
       "      <th>Pronom</th>\n",
       "      <th>Age</th>\n",
       "      <th>GPA</th>\n",
       "    </tr>\n",
       "  </thead>\n",
       "  <tbody>\n",
       "    <tr>\n",
       "      <th>3</th>\n",
       "      <td>2022876123</td>\n",
       "      <td>KALOMBO</td>\n",
       "      <td>Charly</td>\n",
       "      <td>26</td>\n",
       "      <td>C</td>\n",
       "    </tr>\n",
       "    <tr>\n",
       "      <th>4</th>\n",
       "      <td>2022987111</td>\n",
       "      <td>KALOBO</td>\n",
       "      <td>Justin</td>\n",
       "      <td>18</td>\n",
       "      <td>B</td>\n",
       "    </tr>\n",
       "  </tbody>\n",
       "</table>\n",
       "</div>"
      ],
      "text/plain": [
       "    Matricule      Nom  Pronom  Age GPA\n",
       "3  2022876123  KALOMBO  Charly   26   C\n",
       "4  2022987111   KALOBO  Justin   18   B"
      ]
     },
     "execution_count": 44,
     "metadata": {},
     "output_type": "execute_result"
    }
   ],
   "source": [
    "donnees_etudiants.tail(2)"
   ]
  },
  {
   "cell_type": "code",
   "execution_count": 45,
   "id": "6c053f46-d1e0-48d5-acde-9941cacc646b",
   "metadata": {},
   "outputs": [
    {
     "name": "stdout",
     "output_type": "stream",
     "text": [
      "    Matricule         Nom   Pronom  Age GPA\n",
      "0  2022098123    SAMPATWA     Diev   25   A\n",
      "1  2022123654     KATUMBA  Manasse   22   B\n",
      "2  2022987123  KIMENYEMBO   Ketsia   12   A\n",
      "3  2022876123     KALOMBO   Charly   26   C\n",
      "4  2022987111      KALOBO   Justin   18   B\n"
     ]
    }
   ],
   "source": [
    "print(donnees_etudiants)"
   ]
  },
  {
   "cell_type": "code",
   "execution_count": 46,
   "id": "6e1d6e0c-157b-4a70-8d9e-bdbc9498368b",
   "metadata": {},
   "outputs": [
    {
     "data": {
      "text/html": [
       "<div>\n",
       "<style scoped>\n",
       "    .dataframe tbody tr th:only-of-type {\n",
       "        vertical-align: middle;\n",
       "    }\n",
       "\n",
       "    .dataframe tbody tr th {\n",
       "        vertical-align: top;\n",
       "    }\n",
       "\n",
       "    .dataframe thead th {\n",
       "        text-align: right;\n",
       "    }\n",
       "</style>\n",
       "<table border=\"1\" class=\"dataframe\">\n",
       "  <thead>\n",
       "    <tr style=\"text-align: right;\">\n",
       "      <th></th>\n",
       "      <th>Matricule</th>\n",
       "      <th>Nom</th>\n",
       "      <th>Pronom</th>\n",
       "      <th>Age</th>\n",
       "      <th>GPA</th>\n",
       "    </tr>\n",
       "  </thead>\n",
       "  <tbody>\n",
       "    <tr>\n",
       "      <th>0</th>\n",
       "      <td>2022098123</td>\n",
       "      <td>SAMPATWA</td>\n",
       "      <td>Diev</td>\n",
       "      <td>25</td>\n",
       "      <td>A</td>\n",
       "    </tr>\n",
       "    <tr>\n",
       "      <th>1</th>\n",
       "      <td>2022123654</td>\n",
       "      <td>KATUMBA</td>\n",
       "      <td>Manasse</td>\n",
       "      <td>22</td>\n",
       "      <td>B</td>\n",
       "    </tr>\n",
       "    <tr>\n",
       "      <th>2</th>\n",
       "      <td>2022987123</td>\n",
       "      <td>KIMENYEMBO</td>\n",
       "      <td>Ketsia</td>\n",
       "      <td>12</td>\n",
       "      <td>A</td>\n",
       "    </tr>\n",
       "    <tr>\n",
       "      <th>3</th>\n",
       "      <td>2022876123</td>\n",
       "      <td>KALOMBO</td>\n",
       "      <td>Charly</td>\n",
       "      <td>26</td>\n",
       "      <td>C</td>\n",
       "    </tr>\n",
       "    <tr>\n",
       "      <th>4</th>\n",
       "      <td>2022987111</td>\n",
       "      <td>KALOBO</td>\n",
       "      <td>Justin</td>\n",
       "      <td>18</td>\n",
       "      <td>B</td>\n",
       "    </tr>\n",
       "  </tbody>\n",
       "</table>\n",
       "</div>"
      ],
      "text/plain": [
       "    Matricule         Nom   Pronom  Age GPA\n",
       "0  2022098123    SAMPATWA     Diev   25   A\n",
       "1  2022123654     KATUMBA  Manasse   22   B\n",
       "2  2022987123  KIMENYEMBO   Ketsia   12   A\n",
       "3  2022876123     KALOMBO   Charly   26   C\n",
       "4  2022987111      KALOBO   Justin   18   B"
      ]
     },
     "execution_count": 46,
     "metadata": {},
     "output_type": "execute_result"
    }
   ],
   "source": [
    "donnees_etudiants.head()"
   ]
  },
  {
   "cell_type": "code",
   "execution_count": 47,
   "id": "7bde0b78-f02f-4499-baba-593184b9540a",
   "metadata": {},
   "outputs": [
    {
     "data": {
      "text/plain": [
       "0    2022098123\n",
       "1    2022123654\n",
       "2    2022987123\n",
       "3    2022876123\n",
       "4    2022987111\n",
       "Name: Matricule, dtype: object"
      ]
     },
     "execution_count": 47,
     "metadata": {},
     "output_type": "execute_result"
    }
   ],
   "source": [
    "donnees_etudiants['Matricule']"
   ]
  },
  {
   "cell_type": "code",
   "execution_count": 48,
   "id": "e2d39b25-2aab-4d00-a707-e84d76aae1b8",
   "metadata": {},
   "outputs": [
    {
     "data": {
      "text/html": [
       "<div>\n",
       "<style scoped>\n",
       "    .dataframe tbody tr th:only-of-type {\n",
       "        vertical-align: middle;\n",
       "    }\n",
       "\n",
       "    .dataframe tbody tr th {\n",
       "        vertical-align: top;\n",
       "    }\n",
       "\n",
       "    .dataframe thead th {\n",
       "        text-align: right;\n",
       "    }\n",
       "</style>\n",
       "<table border=\"1\" class=\"dataframe\">\n",
       "  <thead>\n",
       "    <tr style=\"text-align: right;\">\n",
       "      <th></th>\n",
       "      <th>Matricule</th>\n",
       "      <th>Nom</th>\n",
       "    </tr>\n",
       "  </thead>\n",
       "  <tbody>\n",
       "    <tr>\n",
       "      <th>0</th>\n",
       "      <td>2022098123</td>\n",
       "      <td>SAMPATWA</td>\n",
       "    </tr>\n",
       "    <tr>\n",
       "      <th>1</th>\n",
       "      <td>2022123654</td>\n",
       "      <td>KATUMBA</td>\n",
       "    </tr>\n",
       "    <tr>\n",
       "      <th>2</th>\n",
       "      <td>2022987123</td>\n",
       "      <td>KIMENYEMBO</td>\n",
       "    </tr>\n",
       "    <tr>\n",
       "      <th>3</th>\n",
       "      <td>2022876123</td>\n",
       "      <td>KALOMBO</td>\n",
       "    </tr>\n",
       "    <tr>\n",
       "      <th>4</th>\n",
       "      <td>2022987111</td>\n",
       "      <td>KALOBO</td>\n",
       "    </tr>\n",
       "  </tbody>\n",
       "</table>\n",
       "</div>"
      ],
      "text/plain": [
       "    Matricule         Nom\n",
       "0  2022098123    SAMPATWA\n",
       "1  2022123654     KATUMBA\n",
       "2  2022987123  KIMENYEMBO\n",
       "3  2022876123     KALOMBO\n",
       "4  2022987111      KALOBO"
      ]
     },
     "execution_count": 48,
     "metadata": {},
     "output_type": "execute_result"
    }
   ],
   "source": [
    "donnees_etudiants[['Matricule', 'Nom']]"
   ]
  },
  {
   "cell_type": "code",
   "execution_count": 49,
   "id": "0afa4fec-23ab-4828-8b48-41da8478c737",
   "metadata": {},
   "outputs": [
    {
     "data": {
      "text/html": [
       "<div>\n",
       "<style scoped>\n",
       "    .dataframe tbody tr th:only-of-type {\n",
       "        vertical-align: middle;\n",
       "    }\n",
       "\n",
       "    .dataframe tbody tr th {\n",
       "        vertical-align: top;\n",
       "    }\n",
       "\n",
       "    .dataframe thead th {\n",
       "        text-align: right;\n",
       "    }\n",
       "</style>\n",
       "<table border=\"1\" class=\"dataframe\">\n",
       "  <thead>\n",
       "    <tr style=\"text-align: right;\">\n",
       "      <th></th>\n",
       "      <th>Matricule</th>\n",
       "      <th>Nom</th>\n",
       "      <th>Pronom</th>\n",
       "      <th>Age</th>\n",
       "      <th>GPA</th>\n",
       "    </tr>\n",
       "  </thead>\n",
       "  <tbody>\n",
       "    <tr>\n",
       "      <th>0</th>\n",
       "      <td>2022098123</td>\n",
       "      <td>SAMPATWA</td>\n",
       "      <td>Diev</td>\n",
       "      <td>25</td>\n",
       "      <td>A</td>\n",
       "    </tr>\n",
       "    <tr>\n",
       "      <th>1</th>\n",
       "      <td>2022123654</td>\n",
       "      <td>KATUMBA</td>\n",
       "      <td>Manasse</td>\n",
       "      <td>22</td>\n",
       "      <td>B</td>\n",
       "    </tr>\n",
       "    <tr>\n",
       "      <th>2</th>\n",
       "      <td>2022987123</td>\n",
       "      <td>KIMENYEMBO</td>\n",
       "      <td>Ketsia</td>\n",
       "      <td>12</td>\n",
       "      <td>A</td>\n",
       "    </tr>\n",
       "    <tr>\n",
       "      <th>3</th>\n",
       "      <td>2022876123</td>\n",
       "      <td>KALOMBO</td>\n",
       "      <td>Charly</td>\n",
       "      <td>26</td>\n",
       "      <td>C</td>\n",
       "    </tr>\n",
       "    <tr>\n",
       "      <th>4</th>\n",
       "      <td>2022987111</td>\n",
       "      <td>KALOBO</td>\n",
       "      <td>Justin</td>\n",
       "      <td>18</td>\n",
       "      <td>B</td>\n",
       "    </tr>\n",
       "  </tbody>\n",
       "</table>\n",
       "</div>"
      ],
      "text/plain": [
       "    Matricule         Nom   Pronom  Age GPA\n",
       "0  2022098123    SAMPATWA     Diev   25   A\n",
       "1  2022123654     KATUMBA  Manasse   22   B\n",
       "2  2022987123  KIMENYEMBO   Ketsia   12   A\n",
       "3  2022876123     KALOMBO   Charly   26   C\n",
       "4  2022987111      KALOBO   Justin   18   B"
      ]
     },
     "execution_count": 49,
     "metadata": {},
     "output_type": "execute_result"
    }
   ],
   "source": [
    "donnees_etudiants.iloc[ : , : ]"
   ]
  },
  {
   "cell_type": "code",
   "execution_count": 50,
   "id": "5f0027cd-25df-46e0-ab5e-ee55a755dd3c",
   "metadata": {},
   "outputs": [
    {
     "data": {
      "text/html": [
       "<div>\n",
       "<style scoped>\n",
       "    .dataframe tbody tr th:only-of-type {\n",
       "        vertical-align: middle;\n",
       "    }\n",
       "\n",
       "    .dataframe tbody tr th {\n",
       "        vertical-align: top;\n",
       "    }\n",
       "\n",
       "    .dataframe thead th {\n",
       "        text-align: right;\n",
       "    }\n",
       "</style>\n",
       "<table border=\"1\" class=\"dataframe\">\n",
       "  <thead>\n",
       "    <tr style=\"text-align: right;\">\n",
       "      <th></th>\n",
       "      <th>Matricule</th>\n",
       "      <th>Nom</th>\n",
       "      <th>Pronom</th>\n",
       "      <th>Age</th>\n",
       "      <th>GPA</th>\n",
       "    </tr>\n",
       "  </thead>\n",
       "  <tbody>\n",
       "    <tr>\n",
       "      <th>2</th>\n",
       "      <td>2022987123</td>\n",
       "      <td>KIMENYEMBO</td>\n",
       "      <td>Ketsia</td>\n",
       "      <td>12</td>\n",
       "      <td>A</td>\n",
       "    </tr>\n",
       "  </tbody>\n",
       "</table>\n",
       "</div>"
      ],
      "text/plain": [
       "    Matricule         Nom  Pronom  Age GPA\n",
       "2  2022987123  KIMENYEMBO  Ketsia   12   A"
      ]
     },
     "execution_count": 50,
     "metadata": {},
     "output_type": "execute_result"
    }
   ],
   "source": [
    "## Afficher seulement les informations de Ketsia\n",
    "donnees_etudiants.iloc[ 2 : 3, : ]"
   ]
  },
  {
   "cell_type": "code",
   "execution_count": 51,
   "id": "f8cf70ea-a1fd-446b-acac-b8baa6548b9a",
   "metadata": {},
   "outputs": [
    {
     "data": {
      "text/html": [
       "<div>\n",
       "<style scoped>\n",
       "    .dataframe tbody tr th:only-of-type {\n",
       "        vertical-align: middle;\n",
       "    }\n",
       "\n",
       "    .dataframe tbody tr th {\n",
       "        vertical-align: top;\n",
       "    }\n",
       "\n",
       "    .dataframe thead th {\n",
       "        text-align: right;\n",
       "    }\n",
       "</style>\n",
       "<table border=\"1\" class=\"dataframe\">\n",
       "  <thead>\n",
       "    <tr style=\"text-align: right;\">\n",
       "      <th></th>\n",
       "      <th>Age</th>\n",
       "    </tr>\n",
       "  </thead>\n",
       "  <tbody>\n",
       "    <tr>\n",
       "      <th>0</th>\n",
       "      <td>25</td>\n",
       "    </tr>\n",
       "    <tr>\n",
       "      <th>1</th>\n",
       "      <td>22</td>\n",
       "    </tr>\n",
       "    <tr>\n",
       "      <th>2</th>\n",
       "      <td>12</td>\n",
       "    </tr>\n",
       "    <tr>\n",
       "      <th>3</th>\n",
       "      <td>26</td>\n",
       "    </tr>\n",
       "    <tr>\n",
       "      <th>4</th>\n",
       "      <td>18</td>\n",
       "    </tr>\n",
       "  </tbody>\n",
       "</table>\n",
       "</div>"
      ],
      "text/plain": [
       "   Age\n",
       "0   25\n",
       "1   22\n",
       "2   12\n",
       "3   26\n",
       "4   18"
      ]
     },
     "execution_count": 51,
     "metadata": {},
     "output_type": "execute_result"
    }
   ],
   "source": [
    "# Afficher seulement la colonne Age\n",
    "donnees_etudiants.iloc[ : , 3:4]"
   ]
  },
  {
   "cell_type": "code",
   "execution_count": 52,
   "id": "a9b31c34-11f4-40b3-9f57-209a0b87e205",
   "metadata": {},
   "outputs": [
    {
     "data": {
      "text/html": [
       "<div>\n",
       "<style scoped>\n",
       "    .dataframe tbody tr th:only-of-type {\n",
       "        vertical-align: middle;\n",
       "    }\n",
       "\n",
       "    .dataframe tbody tr th {\n",
       "        vertical-align: top;\n",
       "    }\n",
       "\n",
       "    .dataframe thead th {\n",
       "        text-align: right;\n",
       "    }\n",
       "</style>\n",
       "<table border=\"1\" class=\"dataframe\">\n",
       "  <thead>\n",
       "    <tr style=\"text-align: right;\">\n",
       "      <th></th>\n",
       "      <th>Matricule</th>\n",
       "      <th>Nom</th>\n",
       "      <th>Pronom</th>\n",
       "      <th>Age</th>\n",
       "      <th>GPA</th>\n",
       "    </tr>\n",
       "  </thead>\n",
       "  <tbody>\n",
       "    <tr>\n",
       "      <th>0</th>\n",
       "      <td>2022098123</td>\n",
       "      <td>SAMPATWA</td>\n",
       "      <td>Diev</td>\n",
       "      <td>25</td>\n",
       "      <td>A</td>\n",
       "    </tr>\n",
       "    <tr>\n",
       "      <th>1</th>\n",
       "      <td>2022123654</td>\n",
       "      <td>KATUMBA</td>\n",
       "      <td>Manasse</td>\n",
       "      <td>22</td>\n",
       "      <td>B</td>\n",
       "    </tr>\n",
       "    <tr>\n",
       "      <th>2</th>\n",
       "      <td>2022987123</td>\n",
       "      <td>KIMENYEMBO</td>\n",
       "      <td>Ketsia</td>\n",
       "      <td>12</td>\n",
       "      <td>A</td>\n",
       "    </tr>\n",
       "    <tr>\n",
       "      <th>3</th>\n",
       "      <td>2022876123</td>\n",
       "      <td>KALOMBO</td>\n",
       "      <td>Charly</td>\n",
       "      <td>26</td>\n",
       "      <td>C</td>\n",
       "    </tr>\n",
       "    <tr>\n",
       "      <th>4</th>\n",
       "      <td>2022987111</td>\n",
       "      <td>KALOBO</td>\n",
       "      <td>Justin</td>\n",
       "      <td>18</td>\n",
       "      <td>B</td>\n",
       "    </tr>\n",
       "  </tbody>\n",
       "</table>\n",
       "</div>"
      ],
      "text/plain": [
       "    Matricule         Nom   Pronom  Age GPA\n",
       "0  2022098123    SAMPATWA     Diev   25   A\n",
       "1  2022123654     KATUMBA  Manasse   22   B\n",
       "2  2022987123  KIMENYEMBO   Ketsia   12   A\n",
       "3  2022876123     KALOMBO   Charly   26   C\n",
       "4  2022987111      KALOBO   Justin   18   B"
      ]
     },
     "execution_count": 52,
     "metadata": {},
     "output_type": "execute_result"
    }
   ],
   "source": [
    "donnees_etudiants.head()"
   ]
  },
  {
   "cell_type": "code",
   "execution_count": 53,
   "id": "bf917ea0-d561-4a08-a6c5-fa7836d71b5f",
   "metadata": {},
   "outputs": [
    {
     "data": {
      "text/html": [
       "<div>\n",
       "<style scoped>\n",
       "    .dataframe tbody tr th:only-of-type {\n",
       "        vertical-align: middle;\n",
       "    }\n",
       "\n",
       "    .dataframe tbody tr th {\n",
       "        vertical-align: top;\n",
       "    }\n",
       "\n",
       "    .dataframe thead th {\n",
       "        text-align: right;\n",
       "    }\n",
       "</style>\n",
       "<table border=\"1\" class=\"dataframe\">\n",
       "  <thead>\n",
       "    <tr style=\"text-align: right;\">\n",
       "      <th></th>\n",
       "      <th>Nom</th>\n",
       "    </tr>\n",
       "  </thead>\n",
       "  <tbody>\n",
       "    <tr>\n",
       "      <th>1</th>\n",
       "      <td>KATUMBA</td>\n",
       "    </tr>\n",
       "  </tbody>\n",
       "</table>\n",
       "</div>"
      ],
      "text/plain": [
       "       Nom\n",
       "1  KATUMBA"
      ]
     },
     "execution_count": 53,
     "metadata": {},
     "output_type": "execute_result"
    }
   ],
   "source": [
    "donnees_etudiants.iloc[1 : 2, 1:2]"
   ]
  },
  {
   "cell_type": "code",
   "execution_count": 54,
   "id": "2555a86c-839a-4ff1-a509-b5a5369ff8af",
   "metadata": {},
   "outputs": [],
   "source": [
    "# Ajouter les colonnes\n",
    "donnees_etudiants['Genre'] = ['M', 'M', 'F', 'M', 'M']\n",
    "donnees_etudiants['Pourcentage'] = [67, 78, 87, 90, 58]"
   ]
  },
  {
   "cell_type": "code",
   "execution_count": 55,
   "id": "63c9df15-7f78-4bac-b46e-9c5f44d1efee",
   "metadata": {},
   "outputs": [
    {
     "data": {
      "text/html": [
       "<div>\n",
       "<style scoped>\n",
       "    .dataframe tbody tr th:only-of-type {\n",
       "        vertical-align: middle;\n",
       "    }\n",
       "\n",
       "    .dataframe tbody tr th {\n",
       "        vertical-align: top;\n",
       "    }\n",
       "\n",
       "    .dataframe thead th {\n",
       "        text-align: right;\n",
       "    }\n",
       "</style>\n",
       "<table border=\"1\" class=\"dataframe\">\n",
       "  <thead>\n",
       "    <tr style=\"text-align: right;\">\n",
       "      <th></th>\n",
       "      <th>Matricule</th>\n",
       "      <th>Nom</th>\n",
       "      <th>Pronom</th>\n",
       "      <th>Age</th>\n",
       "      <th>GPA</th>\n",
       "      <th>Genre</th>\n",
       "      <th>Pourcentage</th>\n",
       "    </tr>\n",
       "  </thead>\n",
       "  <tbody>\n",
       "    <tr>\n",
       "      <th>0</th>\n",
       "      <td>2022098123</td>\n",
       "      <td>SAMPATWA</td>\n",
       "      <td>Diev</td>\n",
       "      <td>25</td>\n",
       "      <td>A</td>\n",
       "      <td>M</td>\n",
       "      <td>67</td>\n",
       "    </tr>\n",
       "    <tr>\n",
       "      <th>1</th>\n",
       "      <td>2022123654</td>\n",
       "      <td>KATUMBA</td>\n",
       "      <td>Manasse</td>\n",
       "      <td>22</td>\n",
       "      <td>B</td>\n",
       "      <td>M</td>\n",
       "      <td>78</td>\n",
       "    </tr>\n",
       "    <tr>\n",
       "      <th>2</th>\n",
       "      <td>2022987123</td>\n",
       "      <td>KIMENYEMBO</td>\n",
       "      <td>Ketsia</td>\n",
       "      <td>12</td>\n",
       "      <td>A</td>\n",
       "      <td>F</td>\n",
       "      <td>87</td>\n",
       "    </tr>\n",
       "    <tr>\n",
       "      <th>3</th>\n",
       "      <td>2022876123</td>\n",
       "      <td>KALOMBO</td>\n",
       "      <td>Charly</td>\n",
       "      <td>26</td>\n",
       "      <td>C</td>\n",
       "      <td>M</td>\n",
       "      <td>90</td>\n",
       "    </tr>\n",
       "    <tr>\n",
       "      <th>4</th>\n",
       "      <td>2022987111</td>\n",
       "      <td>KALOBO</td>\n",
       "      <td>Justin</td>\n",
       "      <td>18</td>\n",
       "      <td>B</td>\n",
       "      <td>M</td>\n",
       "      <td>58</td>\n",
       "    </tr>\n",
       "  </tbody>\n",
       "</table>\n",
       "</div>"
      ],
      "text/plain": [
       "    Matricule         Nom   Pronom  Age GPA Genre  Pourcentage\n",
       "0  2022098123    SAMPATWA     Diev   25   A     M           67\n",
       "1  2022123654     KATUMBA  Manasse   22   B     M           78\n",
       "2  2022987123  KIMENYEMBO   Ketsia   12   A     F           87\n",
       "3  2022876123     KALOMBO   Charly   26   C     M           90\n",
       "4  2022987111      KALOBO   Justin   18   B     M           58"
      ]
     },
     "execution_count": 55,
     "metadata": {},
     "output_type": "execute_result"
    }
   ],
   "source": [
    "donnees_etudiants"
   ]
  },
  {
   "cell_type": "code",
   "execution_count": 56,
   "id": "74ee0632-f38c-4894-bfd7-cd7d553bb00e",
   "metadata": {},
   "outputs": [],
   "source": [
    "# Supprimer la colonne GPA\n",
    "donnees_etudiants.drop(columns='GPA', inplace=True, axis=1)"
   ]
  },
  {
   "cell_type": "code",
   "execution_count": 57,
   "id": "fc6ccb61-cd03-46fe-a0c5-7e8e8fc0baeb",
   "metadata": {},
   "outputs": [
    {
     "data": {
      "text/html": [
       "<div>\n",
       "<style scoped>\n",
       "    .dataframe tbody tr th:only-of-type {\n",
       "        vertical-align: middle;\n",
       "    }\n",
       "\n",
       "    .dataframe tbody tr th {\n",
       "        vertical-align: top;\n",
       "    }\n",
       "\n",
       "    .dataframe thead th {\n",
       "        text-align: right;\n",
       "    }\n",
       "</style>\n",
       "<table border=\"1\" class=\"dataframe\">\n",
       "  <thead>\n",
       "    <tr style=\"text-align: right;\">\n",
       "      <th></th>\n",
       "      <th>Matricule</th>\n",
       "      <th>Nom</th>\n",
       "      <th>Pronom</th>\n",
       "      <th>Age</th>\n",
       "      <th>Genre</th>\n",
       "      <th>Pourcentage</th>\n",
       "    </tr>\n",
       "  </thead>\n",
       "  <tbody>\n",
       "    <tr>\n",
       "      <th>0</th>\n",
       "      <td>2022098123</td>\n",
       "      <td>SAMPATWA</td>\n",
       "      <td>Diev</td>\n",
       "      <td>25</td>\n",
       "      <td>M</td>\n",
       "      <td>67</td>\n",
       "    </tr>\n",
       "    <tr>\n",
       "      <th>1</th>\n",
       "      <td>2022123654</td>\n",
       "      <td>KATUMBA</td>\n",
       "      <td>Manasse</td>\n",
       "      <td>22</td>\n",
       "      <td>M</td>\n",
       "      <td>78</td>\n",
       "    </tr>\n",
       "    <tr>\n",
       "      <th>2</th>\n",
       "      <td>2022987123</td>\n",
       "      <td>KIMENYEMBO</td>\n",
       "      <td>Ketsia</td>\n",
       "      <td>12</td>\n",
       "      <td>F</td>\n",
       "      <td>87</td>\n",
       "    </tr>\n",
       "    <tr>\n",
       "      <th>3</th>\n",
       "      <td>2022876123</td>\n",
       "      <td>KALOMBO</td>\n",
       "      <td>Charly</td>\n",
       "      <td>26</td>\n",
       "      <td>M</td>\n",
       "      <td>90</td>\n",
       "    </tr>\n",
       "    <tr>\n",
       "      <th>4</th>\n",
       "      <td>2022987111</td>\n",
       "      <td>KALOBO</td>\n",
       "      <td>Justin</td>\n",
       "      <td>18</td>\n",
       "      <td>M</td>\n",
       "      <td>58</td>\n",
       "    </tr>\n",
       "  </tbody>\n",
       "</table>\n",
       "</div>"
      ],
      "text/plain": [
       "    Matricule         Nom   Pronom  Age Genre  Pourcentage\n",
       "0  2022098123    SAMPATWA     Diev   25     M           67\n",
       "1  2022123654     KATUMBA  Manasse   22     M           78\n",
       "2  2022987123  KIMENYEMBO   Ketsia   12     F           87\n",
       "3  2022876123     KALOMBO   Charly   26     M           90\n",
       "4  2022987111      KALOBO   Justin   18     M           58"
      ]
     },
     "execution_count": 57,
     "metadata": {},
     "output_type": "execute_result"
    }
   ],
   "source": [
    "donnees_etudiants"
   ]
  },
  {
   "cell_type": "code",
   "execution_count": 58,
   "id": "32d72853-04e6-4010-896f-19706da00bd2",
   "metadata": {},
   "outputs": [],
   "source": [
    "# Convertir la colonne Genre en M = 1 et F = 0\n",
    "# 1ere Methode\n",
    "# Mapping de la colonne Genre\n",
    "#Mapping_Genre = {'M': 1,'F': 0}\n",
    "\n",
    "#donnees_etudiants['Genre'] = donnees_etudiants['Genre'].map(Mapping_Genre)\n",
    "\n",
    "#2ieme methode\n",
    "\n",
    "donnees_etudiants['Genre'] = np.where(donnees_etudiants['Genre'] == 'M', 1, 0 )"
   ]
  },
  {
   "cell_type": "code",
   "execution_count": 59,
   "id": "1f16e35e-78e1-402d-8a3e-5f79aa67703c",
   "metadata": {},
   "outputs": [
    {
     "data": {
      "text/html": [
       "<div>\n",
       "<style scoped>\n",
       "    .dataframe tbody tr th:only-of-type {\n",
       "        vertical-align: middle;\n",
       "    }\n",
       "\n",
       "    .dataframe tbody tr th {\n",
       "        vertical-align: top;\n",
       "    }\n",
       "\n",
       "    .dataframe thead th {\n",
       "        text-align: right;\n",
       "    }\n",
       "</style>\n",
       "<table border=\"1\" class=\"dataframe\">\n",
       "  <thead>\n",
       "    <tr style=\"text-align: right;\">\n",
       "      <th></th>\n",
       "      <th>Matricule</th>\n",
       "      <th>Nom</th>\n",
       "      <th>Pronom</th>\n",
       "      <th>Age</th>\n",
       "      <th>Genre</th>\n",
       "      <th>Pourcentage</th>\n",
       "    </tr>\n",
       "  </thead>\n",
       "  <tbody>\n",
       "    <tr>\n",
       "      <th>0</th>\n",
       "      <td>2022098123</td>\n",
       "      <td>SAMPATWA</td>\n",
       "      <td>Diev</td>\n",
       "      <td>25</td>\n",
       "      <td>1</td>\n",
       "      <td>67</td>\n",
       "    </tr>\n",
       "    <tr>\n",
       "      <th>1</th>\n",
       "      <td>2022123654</td>\n",
       "      <td>KATUMBA</td>\n",
       "      <td>Manasse</td>\n",
       "      <td>22</td>\n",
       "      <td>1</td>\n",
       "      <td>78</td>\n",
       "    </tr>\n",
       "    <tr>\n",
       "      <th>2</th>\n",
       "      <td>2022987123</td>\n",
       "      <td>KIMENYEMBO</td>\n",
       "      <td>Ketsia</td>\n",
       "      <td>12</td>\n",
       "      <td>0</td>\n",
       "      <td>87</td>\n",
       "    </tr>\n",
       "    <tr>\n",
       "      <th>3</th>\n",
       "      <td>2022876123</td>\n",
       "      <td>KALOMBO</td>\n",
       "      <td>Charly</td>\n",
       "      <td>26</td>\n",
       "      <td>1</td>\n",
       "      <td>90</td>\n",
       "    </tr>\n",
       "    <tr>\n",
       "      <th>4</th>\n",
       "      <td>2022987111</td>\n",
       "      <td>KALOBO</td>\n",
       "      <td>Justin</td>\n",
       "      <td>18</td>\n",
       "      <td>1</td>\n",
       "      <td>58</td>\n",
       "    </tr>\n",
       "  </tbody>\n",
       "</table>\n",
       "</div>"
      ],
      "text/plain": [
       "    Matricule         Nom   Pronom  Age  Genre  Pourcentage\n",
       "0  2022098123    SAMPATWA     Diev   25      1           67\n",
       "1  2022123654     KATUMBA  Manasse   22      1           78\n",
       "2  2022987123  KIMENYEMBO   Ketsia   12      0           87\n",
       "3  2022876123     KALOMBO   Charly   26      1           90\n",
       "4  2022987111      KALOBO   Justin   18      1           58"
      ]
     },
     "execution_count": 59,
     "metadata": {},
     "output_type": "execute_result"
    }
   ],
   "source": [
    "donnees_etudiants"
   ]
  },
  {
   "cell_type": "code",
   "execution_count": 60,
   "id": "e22e0120-5096-4c59-804a-88194ffa2231",
   "metadata": {},
   "outputs": [
    {
     "name": "stdout",
     "output_type": "stream",
     "text": [
      "<class 'pandas.core.frame.DataFrame'>\n",
      "RangeIndex: 5 entries, 0 to 4\n",
      "Data columns (total 6 columns):\n",
      " #   Column       Non-Null Count  Dtype \n",
      "---  ------       --------------  ----- \n",
      " 0   Matricule    5 non-null      object\n",
      " 1   Nom          5 non-null      object\n",
      " 2   Pronom       5 non-null      object\n",
      " 3   Age          5 non-null      int64 \n",
      " 4   Genre        5 non-null      int32 \n",
      " 5   Pourcentage  5 non-null      int64 \n",
      "dtypes: int32(1), int64(2), object(3)\n",
      "memory usage: 352.0+ bytes\n"
     ]
    }
   ],
   "source": [
    "donnees_etudiants.info()"
   ]
  },
  {
   "cell_type": "markdown",
   "id": "1751c43c-3150-42a5-b7b1-1d672ca6e8b7",
   "metadata": {},
   "source": [
    "# D. VISUALISATION DES DONNEES"
   ]
  },
  {
   "cell_type": "code",
   "execution_count": 61,
   "id": "fb71a565-ada1-4c00-8b85-cfd203110f59",
   "metadata": {},
   "outputs": [],
   "source": [
    "# Creation de donnees \n",
    "X = np.linspace(0, 2, 50)"
   ]
  },
  {
   "cell_type": "code",
   "execution_count": 62,
   "id": "6e1863bf-8fff-4e8e-93d6-d70078009ce2",
   "metadata": {},
   "outputs": [
    {
     "data": {
      "text/plain": [
       "array([0.        , 0.04081633, 0.08163265, 0.12244898, 0.16326531,\n",
       "       0.20408163, 0.24489796, 0.28571429, 0.32653061, 0.36734694,\n",
       "       0.40816327, 0.44897959, 0.48979592, 0.53061224, 0.57142857,\n",
       "       0.6122449 , 0.65306122, 0.69387755, 0.73469388, 0.7755102 ,\n",
       "       0.81632653, 0.85714286, 0.89795918, 0.93877551, 0.97959184,\n",
       "       1.02040816, 1.06122449, 1.10204082, 1.14285714, 1.18367347,\n",
       "       1.2244898 , 1.26530612, 1.30612245, 1.34693878, 1.3877551 ,\n",
       "       1.42857143, 1.46938776, 1.51020408, 1.55102041, 1.59183673,\n",
       "       1.63265306, 1.67346939, 1.71428571, 1.75510204, 1.79591837,\n",
       "       1.83673469, 1.87755102, 1.91836735, 1.95918367, 2.        ])"
      ]
     },
     "execution_count": 62,
     "metadata": {},
     "output_type": "execute_result"
    }
   ],
   "source": [
    "X"
   ]
  },
  {
   "cell_type": "code",
   "execution_count": 63,
   "id": "08d7030f-210f-4d23-ae8d-553c8d73a1dc",
   "metadata": {},
   "outputs": [],
   "source": [
    "# Importter MATPLOTLIB\n",
    "import matplotlib.pyplot as plt"
   ]
  },
  {
   "cell_type": "code",
   "execution_count": 64,
   "id": "f8d2690e-934a-4423-bd2a-57b8d4ea6c79",
   "metadata": {},
   "outputs": [
    {
     "data": {
      "text/plain": [
       "<matplotlib.legend.Legend at 0x20f0b0ce0c0>"
      ]
     },
     "execution_count": 64,
     "metadata": {},
     "output_type": "execute_result"
    },
    {
     "data": {
      "image/png": "[encoded data removed]",
      "text/plain": [
       "<Figure size 600x400 with 1 Axes>"
      ]
     },
     "metadata": {},
     "output_type": "display_data"
    }
   ],
   "source": [
    "fig, ax = plt.subplots(figsize=(6, 4))\n",
    "ax.plot(X, X*2, label='Double')\n",
    "ax.plot(X, X**2, label='Caree de X')\n",
    "ax.plot(X, X**3, label='Cube de X')\n",
    "ax.set_xlabel('Donnees de X')\n",
    "ax.set_ylabel('Donnees de Y')\n",
    "plt.title('Donnees de linspace entre 0 et 2')\n",
    "ax.legend()"
   ]
  },
  {
   "cell_type": "code",
   "execution_count": 65,
   "id": "d8acbc3e-54be-4cb9-ad1f-bc399ca61e6b",
   "metadata": {},
   "outputs": [],
   "source": [
    "# IMPORTER SEABORN\n",
    "import seaborn as sns"
   ]
  },
  {
   "cell_type": "code",
   "execution_count": 66,
   "id": "644b8ab8-fc78-4043-bf95-71a366b0027d",
   "metadata": {},
   "outputs": [],
   "source": [
    "iris_data = sns.load_dataset('iris')"
   ]
  },
  {
   "cell_type": "code",
   "execution_count": 67,
   "id": "ad235423-f64f-43fc-9b1d-8749c07b9bbc",
   "metadata": {},
   "outputs": [
    {
     "data": {
      "text/html": [
       "<div>\n",
       "<style scoped>\n",
       "    .dataframe tbody tr th:only-of-type {\n",
       "        vertical-align: middle;\n",
       "    }\n",
       "\n",
       "    .dataframe tbody tr th {\n",
       "        vertical-align: top;\n",
       "    }\n",
       "\n",
       "    .dataframe thead th {\n",
       "        text-align: right;\n",
       "    }\n",
       "</style>\n",
       "<table border=\"1\" class=\"dataframe\">\n",
       "  <thead>\n",
       "    <tr style=\"text-align: right;\">\n",
       "      <th></th>\n",
       "      <th>sepal_length</th>\n",
       "      <th>sepal_width</th>\n",
       "      <th>petal_length</th>\n",
       "      <th>petal_width</th>\n",
       "      <th>species</th>\n",
       "    </tr>\n",
       "  </thead>\n",
       "  <tbody>\n",
       "    <tr>\n",
       "      <th>0</th>\n",
       "      <td>5.1</td>\n",
       "      <td>3.5</td>\n",
       "      <td>1.4</td>\n",
       "      <td>0.2</td>\n",
       "      <td>setosa</td>\n",
       "    </tr>\n",
       "    <tr>\n",
       "      <th>1</th>\n",
       "      <td>4.9</td>\n",
       "      <td>3.0</td>\n",
       "      <td>1.4</td>\n",
       "      <td>0.2</td>\n",
       "      <td>setosa</td>\n",
       "    </tr>\n",
       "    <tr>\n",
       "      <th>2</th>\n",
       "      <td>4.7</td>\n",
       "      <td>3.2</td>\n",
       "      <td>1.3</td>\n",
       "      <td>0.2</td>\n",
       "      <td>setosa</td>\n",
       "    </tr>\n",
       "    <tr>\n",
       "      <th>3</th>\n",
       "      <td>4.6</td>\n",
       "      <td>3.1</td>\n",
       "      <td>1.5</td>\n",
       "      <td>0.2</td>\n",
       "      <td>setosa</td>\n",
       "    </tr>\n",
       "    <tr>\n",
       "      <th>4</th>\n",
       "      <td>5.0</td>\n",
       "      <td>3.6</td>\n",
       "      <td>1.4</td>\n",
       "      <td>0.2</td>\n",
       "      <td>setosa</td>\n",
       "    </tr>\n",
       "  </tbody>\n",
       "</table>\n",
       "</div>"
      ],
      "text/plain": [
       "   sepal_length  sepal_width  petal_length  petal_width species\n",
       "0           5.1          3.5           1.4          0.2  setosa\n",
       "1           4.9          3.0           1.4          0.2  setosa\n",
       "2           4.7          3.2           1.3          0.2  setosa\n",
       "3           4.6          3.1           1.5          0.2  setosa\n",
       "4           5.0          3.6           1.4          0.2  setosa"
      ]
     },
     "execution_count": 67,
     "metadata": {},
     "output_type": "execute_result"
    }
   ],
   "source": [
    "iris_data.head()"
   ]
  },
  {
   "cell_type": "code",
   "execution_count": 68,
   "id": "0c53ca0b-6922-4525-b515-3aa066515de3",
   "metadata": {},
   "outputs": [
    {
     "data": {
      "text/plain": [
       "(150, 5)"
      ]
     },
     "execution_count": 68,
     "metadata": {},
     "output_type": "execute_result"
    }
   ],
   "source": [
    "iris_data.shape"
   ]
  },
  {
   "cell_type": "code",
   "execution_count": 69,
   "id": "3c40ca0c-49f6-4af7-83df-c469d99fa4f0",
   "metadata": {},
   "outputs": [
    {
     "data": {
      "text/plain": [
       "array(['setosa', 'versicolor', 'virginica'], dtype=object)"
      ]
     },
     "execution_count": 69,
     "metadata": {},
     "output_type": "execute_result"
    }
   ],
   "source": [
    "iris_data['species'].unique()"
   ]
  },
  {
   "cell_type": "code",
   "execution_count": 70,
   "id": "a5767733-fbf9-4fd9-9a28-e57ff3057e80",
   "metadata": {},
   "outputs": [
    {
     "data": {
      "text/plain": [
       "<Axes: xlabel='sepal_length', ylabel='sepal_width'>"
      ]
     },
     "execution_count": 70,
     "metadata": {},
     "output_type": "execute_result"
    },
    {
     "data": {
      "image/png": "[encoded data removed]",
      "text/plain": [
       "<Figure size 640x480 with 1 Axes>"
      ]
     },
     "metadata": {},
     "output_type": "display_data"
    }
   ],
   "source": [
    "sns.scatterplot(x='sepal_length', y='sepal_width', data=iris_data, hue='species')"
   ]
  },
  {
   "cell_type": "code",
   "execution_count": 71,
   "id": "160c398d-98db-48e6-9281-81e36e8fa9c5",
   "metadata": {},
   "outputs": [
    {
     "data": {
      "text/html": [
       "<div>\n",
       "<style scoped>\n",
       "    .dataframe tbody tr th:only-of-type {\n",
       "        vertical-align: middle;\n",
       "    }\n",
       "\n",
       "    .dataframe tbody tr th {\n",
       "        vertical-align: top;\n",
       "    }\n",
       "\n",
       "    .dataframe thead th {\n",
       "        text-align: right;\n",
       "    }\n",
       "</style>\n",
       "<table border=\"1\" class=\"dataframe\">\n",
       "  <thead>\n",
       "    <tr style=\"text-align: right;\">\n",
       "      <th></th>\n",
       "      <th>sepal_length</th>\n",
       "      <th>sepal_width</th>\n",
       "      <th>petal_length</th>\n",
       "      <th>petal_width</th>\n",
       "      <th>species</th>\n",
       "    </tr>\n",
       "  </thead>\n",
       "  <tbody>\n",
       "    <tr>\n",
       "      <th>0</th>\n",
       "      <td>5.1</td>\n",
       "      <td>3.5</td>\n",
       "      <td>1.4</td>\n",
       "      <td>0.2</td>\n",
       "      <td>setosa</td>\n",
       "    </tr>\n",
       "    <tr>\n",
       "      <th>1</th>\n",
       "      <td>4.9</td>\n",
       "      <td>3.0</td>\n",
       "      <td>1.4</td>\n",
       "      <td>0.2</td>\n",
       "      <td>setosa</td>\n",
       "    </tr>\n",
       "    <tr>\n",
       "      <th>2</th>\n",
       "      <td>4.7</td>\n",
       "      <td>3.2</td>\n",
       "      <td>1.3</td>\n",
       "      <td>0.2</td>\n",
       "      <td>setosa</td>\n",
       "    </tr>\n",
       "    <tr>\n",
       "      <th>3</th>\n",
       "      <td>4.6</td>\n",
       "      <td>3.1</td>\n",
       "      <td>1.5</td>\n",
       "      <td>0.2</td>\n",
       "      <td>setosa</td>\n",
       "    </tr>\n",
       "    <tr>\n",
       "      <th>4</th>\n",
       "      <td>5.0</td>\n",
       "      <td>3.6</td>\n",
       "      <td>1.4</td>\n",
       "      <td>0.2</td>\n",
       "      <td>setosa</td>\n",
       "    </tr>\n",
       "  </tbody>\n",
       "</table>\n",
       "</div>"
      ],
      "text/plain": [
       "   sepal_length  sepal_width  petal_length  petal_width species\n",
       "0           5.1          3.5           1.4          0.2  setosa\n",
       "1           4.9          3.0           1.4          0.2  setosa\n",
       "2           4.7          3.2           1.3          0.2  setosa\n",
       "3           4.6          3.1           1.5          0.2  setosa\n",
       "4           5.0          3.6           1.4          0.2  setosa"
      ]
     },
     "execution_count": 71,
     "metadata": {},
     "output_type": "execute_result"
    }
   ],
   "source": [
    "iris_data.head()"
   ]
  },
  {
   "cell_type": "code",
   "execution_count": 72,
   "id": "1bfe4024-401b-4488-be4a-bb6410216417",
   "metadata": {},
   "outputs": [
    {
     "data": {
      "text/plain": [
       "array(['setosa', 'versicolor', 'virginica'], dtype=object)"
      ]
     },
     "execution_count": 72,
     "metadata": {},
     "output_type": "execute_result"
    }
   ],
   "source": [
    "iris_data['species'].unique()"
   ]
  },
  {
   "cell_type": "code",
   "execution_count": null,
   "id": "6cf03645-ec43-40bf-83c2-13aa89e389fd",
   "metadata": {},
   "outputs": [],
   "source": []
  }
 ],
 "metadata": {
  "kernelspec": {
   "display_name": "Python 3 (ipykernel)",
   "language": "python",
   "name": "python3"
  },
  "language_info": {
   "codemirror_mode": {
    "name": "ipython",
    "version": 3
   },
   "file_extension": ".py",
   "mimetype": "text/x-python",
   "name": "python",
   "nbconvert_exporter": "python",
   "pygments_lexer": "ipython3",
   "version": "3.12.7"
  }
 },
 "nbformat": 4,
 "nbformat_minor": 5
}
